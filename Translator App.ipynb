{
 "cells": [
  {
   "cell_type": "markdown",
   "id": "94481c99",
   "metadata": {},
   "source": [
    "TRANSLATOR APP"
   ]
  },
  {
   "cell_type": "code",
   "execution_count": 1,
   "id": "d05da27a",
   "metadata": {},
   "outputs": [],
   "source": [
    "from translate import Translator"
   ]
  },
  {
   "cell_type": "code",
   "execution_count": 2,
   "id": "f6f2f294",
   "metadata": {},
   "outputs": [],
   "source": [
    "def translate_text(text, source_lang, target_lang):\n",
    "    translator = Translator(from_lang=source_lang, to_lang=target_lang)\n",
    "    translation = translator.translate(text)\n",
    "    return translation"
   ]
  },
  {
   "cell_type": "code",
   "execution_count": 3,
   "id": "9d8b34af",
   "metadata": {},
   "outputs": [
    {
     "name": "stdout",
     "output_type": "stream",
     "text": [
      "Enter the source language: English\n",
      "Enter the target language: German\n"
     ]
    }
   ],
   "source": [
    "source_lang = input(\"Enter the source language: \")\n",
    "target_lang = input(\"Enter the target language: \")"
   ]
  },
  {
   "cell_type": "code",
   "execution_count": 4,
   "id": "094e556c",
   "metadata": {},
   "outputs": [
    {
     "name": "stdout",
     "output_type": "stream",
     "text": [
      "Enter the text to translate: This is my third task for internship.\n",
      "Translated text: Dies ist mein dritter Versuch.\n"
     ]
    }
   ],
   "source": [
    "text = input(\"Enter the text to translate: \")\n",
    "translated_text = translate_text(text, source_lang, target_lang)\n",
    "print(\"Translated text:\", translated_text)"
   ]
  },
  {
   "cell_type": "code",
   "execution_count": null,
   "id": "5d9c5e27",
   "metadata": {},
   "outputs": [],
   "source": []
  }
 ],
 "metadata": {
  "kernelspec": {
   "display_name": "Python 3 (ipykernel)",
   "language": "python",
   "name": "python3"
  },
  "language_info": {
   "codemirror_mode": {
    "name": "ipython",
    "version": 3
   },
   "file_extension": ".py",
   "mimetype": "text/x-python",
   "name": "python",
   "nbconvert_exporter": "python",
   "pygments_lexer": "ipython3",
   "version": "3.10.9"
  }
 },
 "nbformat": 4,
 "nbformat_minor": 5
}
